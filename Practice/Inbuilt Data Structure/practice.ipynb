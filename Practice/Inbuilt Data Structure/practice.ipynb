{
 "cells": [
  {
   "cell_type": "markdown",
   "metadata": {},
   "source": [
    "- A Guide to attempting Coding Exercises\n",
    "- Coding Exercise 21: Sum of List Elements\n",
    "- Coding Exercise 22: Largest Element in a List\n",
    "- Coding Exercise 23: Remove Duplicate in a List\n",
    "- Coding Exercise 24: Check if all elements in a list are Unique\n",
    "- Coding Exercise 25: Program to Reverse a List\n",
    "- Coding Exercise 26: Count Number of Odd and Even Elements in a List\n",
    "- Coding Exercise 27: Check if List is Subset of another List\n",
    "- Coding Exercise 28: Maximum difference between two consecutive elements in a list.\n",
    "- Coding Exercise 29: Merge two Sorted List\n",
    "- Coding Exercise 30: Rotate a List\n",
    "- Coding Exercise 31: Merge 2 List into Dictionary\n",
    "- Coding Exercise 32: Merge Multiple Dictionaries\n",
    "- Coding Exercise 33: Words Frequency in a Sentence\n",
    "- Coding Exercise 34: Palindromic Tuple\n",
    "- Coding Exercise 35: Merge Dictionaries with Common Keys"
   ]
  },
  {
   "cell_type": "markdown",
   "metadata": {},
   "source": []
  }
 ],
 "metadata": {
  "language_info": {
   "name": "python"
  }
 },
 "nbformat": 4,
 "nbformat_minor": 2
}
