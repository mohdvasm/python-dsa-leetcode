{
 "cells": [
  {
   "cell_type": "markdown",
   "metadata": {},
   "source": [
    "- Coding Exercise 36: Sum of N Even Natural Numbers\n",
    "- Coding Exercise 37: Check for Even Number\n",
    "- Coding Exercise 38: Check for Prime Number\n",
    "- Coding Exercise 39: Valid Perfect Square\n",
    "- Coding Exercise 40: Decimal to Binary\n",
    "- Coding Exercise 41: Binary to Decimal\n",
    "- Coding Exercise 42: GCD of Two Numbers"
   ]
  },
  {
   "cell_type": "markdown",
   "metadata": {},
   "source": []
  }
 ],
 "metadata": {
  "language_info": {
   "name": "python"
  }
 },
 "nbformat": 4,
 "nbformat_minor": 2
}
