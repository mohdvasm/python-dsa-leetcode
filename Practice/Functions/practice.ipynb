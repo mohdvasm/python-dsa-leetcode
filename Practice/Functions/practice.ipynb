{
 "cells": [
  {
   "cell_type": "markdown",
   "metadata": {},
   "source": [
    "- Coding Exercise 16: Celsius to Fahrenheit\n",
    "- Coding Exercise 17: Area of a Rectangle\n",
    "- Coding Exercise 18: Distance covered by a Vehicle\n",
    "- Coding Exercise 19: Number of Rounds of Lift\n",
    "- Coding Exercise 20: Line Equation"
   ]
  },
  {
   "cell_type": "markdown",
   "metadata": {},
   "source": []
  }
 ],
 "metadata": {
  "language_info": {
   "name": "python"
  }
 },
 "nbformat": 4,
 "nbformat_minor": 2
}
