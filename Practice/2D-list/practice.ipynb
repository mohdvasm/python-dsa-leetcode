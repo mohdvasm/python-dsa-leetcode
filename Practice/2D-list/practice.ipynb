{
 "cells": [
  {
   "cell_type": "markdown",
   "metadata": {},
   "source": [
    "- Coding Exercise 75: Pascal's Triangle\n",
    "- Coding Exercise 76: Rotate Image\n",
    "- Coding Exercise 77: Matrix obtained by Rotation or not?\n",
    "- Coding Exercise 78: Spiral Matrix\n",
    "- Coding Exercise 79: Search a 2D Matrix\n",
    "- Coding Exercise 80: Reshape Matrix"
   ]
  },
  {
   "cell_type": "markdown",
   "metadata": {},
   "source": []
  }
 ],
 "metadata": {
  "language_info": {
   "name": "python"
  }
 },
 "nbformat": 4,
 "nbformat_minor": 2
}
