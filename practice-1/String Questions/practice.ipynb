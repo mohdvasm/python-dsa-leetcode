{
 "cells": [
  {
   "cell_type": "markdown",
   "metadata": {},
   "source": [
    "\n",
    "- Coding Exercise 43: Reverse a string\n",
    "- Coding Exercise 44: Count Vowels in a string\n",
    "- Coding Exercise 45: Check for same strings\n",
    "- Coding Exercise 46: Check Palindrome\n",
    "- Coding Exercise 47: Count words in a string\n",
    "- Coding Exercise 48: Remove Duplicates in a string\n",
    "- Coding Exercise 49: Count consonants in a string\n",
    "- Coding Exercise 50: Check for anagrams\n",
    "- Coding Exercise 51: Check Subsequence\n",
    "- Coding Exercise 52: Check for Substring\n",
    "- Coding Exercise 53: Length of the Longest Word"
   ]
  },
  {
   "cell_type": "markdown",
   "metadata": {},
   "source": []
  }
 ],
 "metadata": {
  "language_info": {
   "name": "python"
  }
 },
 "nbformat": 4,
 "nbformat_minor": 2
}
