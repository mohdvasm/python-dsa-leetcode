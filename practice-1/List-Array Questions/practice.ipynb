{
 "cells": [
  {
   "cell_type": "markdown",
   "metadata": {},
   "source": [
    "- Coding Exercise 63: Maximum Element in a List.\n",
    "- Coding Exercise 64: Sum of Elements in a List\n",
    "- Coding Exercise 65: Palindrome List\n",
    "- Coding Exercise 66: Reverse a List\n",
    "- Coding Exercise 67: Rotate List\n",
    "- Coding Exercise 68: Plus One in the Number\n",
    "- Coding Exercise 69: Missing Number\n",
    "- Coding Exercise 70: Is Array Sorted?\n",
    "- Coding Exercise 71: Move Zeroes\n",
    "- Coding Exercise 72: Intersection of two Lists\n",
    "- Coding Exercise 73: Max Consecutive Ones\n",
    "- Coding Exercise 74: Maximum Subarray Sum"
   ]
  },
  {
   "cell_type": "markdown",
   "metadata": {},
   "source": []
  }
 ],
 "metadata": {
  "language_info": {
   "name": "python"
  }
 },
 "nbformat": 4,
 "nbformat_minor": 2
}
