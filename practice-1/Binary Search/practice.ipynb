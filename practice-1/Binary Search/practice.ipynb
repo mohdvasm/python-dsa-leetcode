{
 "cells": [
  {
   "cell_type": "markdown",
   "metadata": {},
   "source": [
    "\n",
    "- Coding Exercise 58: Count negative numbers in a sorted matrix\n",
    "- Coding Exercise 59: Find smallest letter greater than target\n",
    "- Coding Exercise 60: Find First and Last Position of Element in Sorted Array\n",
    "- Coding Exercise 61: Minimum in Rotated Sorted Array\n",
    "- Coding Exercise 62: Search in Rotated Sorted Array"
   ]
  },
  {
   "cell_type": "markdown",
   "metadata": {},
   "source": []
  }
 ],
 "metadata": {
  "language_info": {
   "name": "python"
  }
 },
 "nbformat": 4,
 "nbformat_minor": 2
}
