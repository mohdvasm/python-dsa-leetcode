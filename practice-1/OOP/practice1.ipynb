{
 "cells": [
  {
   "cell_type": "markdown",
   "metadata": {},
   "source": [
    "\n",
    "- Coding Exercise 81: Bank Account System\n",
    "- Coding Exercise 82: Calculator\n",
    "- Coding Exercise 83: Complex Number Class\n",
    "- Coding Exercise 84: Fraction Class\n",
    "- Coding Exercise 85: Implementing our own List Class"
   ]
  }
 ],
 "metadata": {
  "language_info": {
   "name": "python"
  }
 },
 "nbformat": 4,
 "nbformat_minor": 2
}
